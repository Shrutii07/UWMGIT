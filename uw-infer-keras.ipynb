{
 "cells": [
  {
   "cell_type": "markdown",
   "id": "d31a0f2c",
   "metadata": {
    "papermill": {
     "duration": 0.010027,
     "end_time": "2022-07-03T12:30:27.268162",
     "exception": false,
     "start_time": "2022-07-03T12:30:27.258135",
     "status": "completed"
    },
    "tags": []
   },
   "source": [
    "## Import Libraries"
   ]
  },
  {
   "cell_type": "code",
   "execution_count": 1,
   "id": "025d55ed",
   "metadata": {
    "execution": {
     "iopub.execute_input": "2022-07-03T12:30:27.287270Z",
     "iopub.status.busy": "2022-07-03T12:30:27.286509Z",
     "iopub.status.idle": "2022-07-03T12:30:39.632806Z",
     "shell.execute_reply": "2022-07-03T12:30:39.631597Z"
    },
    "papermill": {
     "duration": 12.359161,
     "end_time": "2022-07-03T12:30:39.635840",
     "exception": false,
     "start_time": "2022-07-03T12:30:27.276679",
     "status": "completed"
    },
    "tags": []
   },
   "outputs": [],
   "source": [
    "from keras.models import load_model\n",
    "from keras.callbacks import Callback, ModelCheckpoint\n",
    "from keras.losses import binary_crossentropy\n",
    "from keras.layers.merge import concatenate\n",
    "from keras.layers.pooling import MaxPooling2D\n",
    "from tensorflow.keras.metrics import *\n",
    "from tensorflow.keras.layers import *\n",
    "from tensorflow.keras.optimizers import *\n",
    "from tensorflow.keras import *\n",
    "from tensorflow import keras\n",
    "import tensorflow as tf\n",
    "from PIL import Image\n",
    "from pathlib import Path\n",
    "import matplotlib as mpl\n",
    "import matplotlib.patches as mpatches\n",
    "import matplotlib.gridspec as gridspec\n",
    "import seaborn as sns\n",
    "import matplotlib.pyplot as plt\n",
    "from glob import glob\n",
    "from sklearn.model_selection import train_test_split\n",
    "import pandas as pd\n",
    "import itertools\n",
    "from itertools import groupby\n",
    "import random\n",
    "import cv2\n",
    "from tqdm.notebook import tqdm\n",
    "from tqdm import tqdm\n",
    "import os\n",
    "from skimage import measure\n",
    "\n",
    "import numpy as np\n",
    "import pandas as pd \n",
    "\n",
    "import warnings\n",
    "warnings.filterwarnings(\"ignore\")\n",
    "# from google.colab.patches import cv2_imshow"
   ]
  },
  {
   "cell_type": "markdown",
   "id": "efec29cc",
   "metadata": {
    "papermill": {
     "duration": 0.007785,
     "end_time": "2022-07-03T12:30:39.652137",
     "exception": false,
     "start_time": "2022-07-03T12:30:39.644352",
     "status": "completed"
    },
    "tags": []
   },
   "source": [
    "## Helper function"
   ]
  },
  {
   "cell_type": "code",
   "execution_count": 2,
   "id": "e190b86e",
   "metadata": {
    "execution": {
     "iopub.execute_input": "2022-07-03T12:30:39.670517Z",
     "iopub.status.busy": "2022-07-03T12:30:39.669771Z",
     "iopub.status.idle": "2022-07-03T12:30:39.688179Z",
     "shell.execute_reply": "2022-07-03T12:30:39.687287Z"
    },
    "papermill": {
     "duration": 0.030323,
     "end_time": "2022-07-03T12:30:39.690568",
     "exception": false,
     "start_time": "2022-07-03T12:30:39.660245",
     "status": "completed"
    },
    "tags": []
   },
   "outputs": [],
   "source": [
    "# ref: https://www.kaggle.com/paulorzp/run-length-encode-and-decode\n",
    "# modified from: https://www.kaggle.com/inversion/run-length-decoding-quick-start\n",
    "def rle_decode(mask_rle, shape, color=1):\n",
    "    \"\"\" TBD\n",
    "    \n",
    "    Args:\n",
    "        mask_rle (str): run-length as string formated (start length)\n",
    "        shape (tuple of ints): (height,width) of array to return \n",
    "    \n",
    "    Returns: \n",
    "        Mask (np.array)\n",
    "            - 1 indicating mask\n",
    "            - 0 indicating background\n",
    "\n",
    "    \"\"\"\n",
    "    # Split the string by space, then convert it into a integer array\n",
    "    s = np.array(mask_rle.split(), dtype=int)\n",
    "\n",
    "    # Every even value is the start, every odd value is the \"run\" length\n",
    "    starts = s[0::2] - 1\n",
    "    lengths = s[1::2]\n",
    "    ends = starts + lengths\n",
    "\n",
    "    # The image image is actually flattened since RLE is a 1D \"run\"\n",
    "    if len(shape)==3:\n",
    "        h, w, d = shape\n",
    "        img = np.zeros((h * w, d), dtype=np.float32)\n",
    "    else:\n",
    "        h, w = shape\n",
    "        img = np.zeros((h * w,), dtype=np.float32)\n",
    "\n",
    "    # The color here is actually just any integer you want!\n",
    "    for lo, hi in zip(starts, ends):\n",
    "        img[lo : hi] = color\n",
    "        \n",
    "    # Don't forget to change the image back to the original shape\n",
    "    return img.reshape(shape)\n",
    "\n",
    "\n",
    "def rle_encode(arr):\n",
    "    arr = arr.reshape(-1)\n",
    "    indexes = (np.where(arr[1:] != arr[:-1])[0])+1\n",
    "    final = []\n",
    "    one = indexes[0:-1:2]\n",
    "    two = indexes[1::2]\n",
    "    for start,end in zip(one, two):\n",
    "        final.append(start)\n",
    "        final.append(end-start)\n",
    "    return ' '.join(map(str,final))\n",
    "\n",
    "def open_gray16(_path, normalize=True, to_rgb=False):\n",
    "    \"\"\" Helper to open files \"\"\"\n",
    "    if normalize:\n",
    "        if to_rgb:\n",
    "            return np.tile(np.expand_dims(cv2.imread(_path, cv2.IMREAD_ANYDEPTH)/65535., axis=-1), 3)\n",
    "        else:\n",
    "            return cv2.imread(_path, cv2.IMREAD_ANYDEPTH)/65535.\n",
    "    else:\n",
    "        if to_rgb:\n",
    "            return np.tile(np.expand_dims(cv2.imread(_path, cv2.IMREAD_ANYDEPTH), axis=-1), 3)\n",
    "        else:\n",
    "            return cv2.imread(_path, cv2.IMREAD_ANYDEPTH)"
   ]
  },
  {
   "cell_type": "markdown",
   "id": "cb4d01bc",
   "metadata": {
    "papermill": {
     "duration": 0.007734,
     "end_time": "2022-07-03T12:30:39.706375",
     "exception": false,
     "start_time": "2022-07-03T12:30:39.698641",
     "status": "completed"
    },
    "tags": []
   },
   "source": [
    "#### Metrics"
   ]
  },
  {
   "cell_type": "code",
   "execution_count": 3,
   "id": "8ba75295",
   "metadata": {
    "execution": {
     "iopub.execute_input": "2022-07-03T12:30:39.725095Z",
     "iopub.status.busy": "2022-07-03T12:30:39.724430Z",
     "iopub.status.idle": "2022-07-03T12:30:39.738633Z",
     "shell.execute_reply": "2022-07-03T12:30:39.737679Z"
    },
    "papermill": {
     "duration": 0.026502,
     "end_time": "2022-07-03T12:30:39.740952",
     "exception": false,
     "start_time": "2022-07-03T12:30:39.714450",
     "status": "completed"
    },
    "tags": []
   },
   "outputs": [],
   "source": [
    "def iou_coef(y_true, y_pred, smooth=1):\n",
    "  intersection = K.sum(K.abs(y_true * y_pred), axis=[1,2,3])\n",
    "  union = K.sum(y_true,[1,2,3])+K.sum(y_pred,[1,2,3])-intersection\n",
    "  iou = K.mean((intersection + smooth) / (union + smooth), axis=0)\n",
    "\n",
    "  return iou\n",
    "def dice_coef(y_true, y_pred, smooth=1):\n",
    "    y_true_f = K.flatten(y_true)\n",
    "    y_pred_f = K.flatten(y_pred)\n",
    "    intersection = K.sum(y_true_f * y_pred_f)\n",
    "    return (2. * intersection + smooth) / (K.sum(y_true_f) + K.sum(y_pred_f) + smooth)\n",
    "\n",
    "def mean_iou(y_true, y_pred):\n",
    "    yt0 = y_true[:,:,:,0]\n",
    "    yp0 = K.cast(y_pred[:,:,:,0] > 0.5, 'float32')\n",
    "    inter = tf.count_nonzero(tf.logical_and(tf.equal(yt0, 1), tf.equal(yp0, 1)))\n",
    "    union = tf.count_nonzero(tf.add(yt0, yp0))\n",
    "    iou = tf.where(tf.equal(union, 0), 1., tf.cast(inter/union, 'float32'))\n",
    "    return iou\n",
    "\n",
    "def dice_loss(y_true, y_pred):\n",
    "    smooth = 1.\n",
    "    y_true_f = K.flatten(y_true)\n",
    "    y_pred_f = K.flatten(y_pred)\n",
    "    intersection = y_true_f * y_pred_f\n",
    "    score = (2. * K.sum(intersection) + smooth) / (K.sum(y_true_f) + K.sum(y_pred_f) + smooth)\n",
    "    return 1. - score\n",
    "\n",
    "def bce_dice_loss(y_true, y_pred):\n",
    "    return binary_crossentropy(tf.cast(y_true, tf.float32), y_pred) + 0.5 * dice_loss(tf.cast(y_true, tf.float32), y_pred)    "
   ]
  },
  {
   "cell_type": "markdown",
   "id": "09ad01a7",
   "metadata": {
    "papermill": {
     "duration": 0.007747,
     "end_time": "2022-07-03T12:30:39.756667",
     "exception": false,
     "start_time": "2022-07-03T12:30:39.748920",
     "status": "completed"
    },
    "tags": []
   },
   "source": [
    "## Load model"
   ]
  },
  {
   "cell_type": "code",
   "execution_count": 4,
   "id": "ad0accda",
   "metadata": {
    "execution": {
     "iopub.execute_input": "2022-07-03T12:30:39.775100Z",
     "iopub.status.busy": "2022-07-03T12:30:39.774470Z",
     "iopub.status.idle": "2022-07-03T12:31:36.379148Z",
     "shell.execute_reply": "2022-07-03T12:31:36.377978Z"
    },
    "papermill": {
     "duration": 56.617216,
     "end_time": "2022-07-03T12:31:36.382094",
     "exception": false,
     "start_time": "2022-07-03T12:30:39.764878",
     "status": "completed"
    },
    "tags": []
   },
   "outputs": [
    {
     "name": "stderr",
     "output_type": "stream",
     "text": [
      "2022-07-03 12:30:40.598033: I tensorflow/core/common_runtime/process_util.cc:146] Creating new thread pool with default inter op setting: 2. Tune using inter_op_parallelism_threads for best performance.\n"
     ]
    }
   ],
   "source": [
    "from tensorflow import keras\n",
    "\n",
    "class FixedDropout(keras.layers.Dropout):\n",
    "    def _get_noise_shape(self, inputs):\n",
    "        if self.noise_shape is None:\n",
    "            return self.noise_shape\n",
    "\n",
    "        symbolic_shape = K.shape(inputs)\n",
    "        noise_shape = [symbolic_shape[axis] if shape is None else shape\n",
    "                       for axis, shape in enumerate(self.noise_shape)]\n",
    "        return tuple(noise_shape)\n",
    "    \n",
    "    \n",
    "custom_objects = {\n",
    "#     'FixedDropout':FixedDropout,\n",
    "    'dice_coef': dice_coef,\n",
    "    'iou_coef': iou_coef,\n",
    "    'bce_dice_loss': bce_dice_loss\n",
    "}\n",
    "\n",
    "\n",
    "model = keras.models.load_model('../input/unet-model/file/file/model_32', custom_objects=custom_objects)"
   ]
  },
  {
   "cell_type": "markdown",
   "id": "1db134c5",
   "metadata": {
    "papermill": {
     "duration": 0.008191,
     "end_time": "2022-07-03T12:31:36.398978",
     "exception": false,
     "start_time": "2022-07-03T12:31:36.390787",
     "status": "completed"
    },
    "tags": []
   },
   "source": [
    "## DATA"
   ]
  },
  {
   "cell_type": "code",
   "execution_count": 5,
   "id": "e1de3066",
   "metadata": {
    "execution": {
     "iopub.execute_input": "2022-07-03T12:31:36.419033Z",
     "iopub.status.busy": "2022-07-03T12:31:36.418061Z",
     "iopub.status.idle": "2022-07-03T12:31:36.969528Z",
     "shell.execute_reply": "2022-07-03T12:31:36.968155Z"
    },
    "papermill": {
     "duration": 0.564658,
     "end_time": "2022-07-03T12:31:36.972071",
     "exception": false,
     "start_time": "2022-07-03T12:31:36.407413",
     "status": "completed"
    },
    "tags": []
   },
   "outputs": [
    {
     "name": "stdout",
     "output_type": "stream",
     "text": [
      "                         id        class segmentation\n",
      "0  case123_day20_slice_0001  large_bowel          NaN\n",
      "1  case123_day20_slice_0001  small_bowel          NaN\n",
      "2  case123_day20_slice_0001      stomach          NaN\n",
      "3  case123_day20_slice_0002  large_bowel          NaN\n",
      "4  case123_day20_slice_0002  small_bowel          NaN\n"
     ]
    }
   ],
   "source": [
    "df1 = pd.read_csv('../input/uw-madison-gi-tract-image-segmentation/train.csv')\n",
    "print(df1.head())"
   ]
  },
  {
   "cell_type": "code",
   "execution_count": 6,
   "id": "7a126116",
   "metadata": {
    "execution": {
     "iopub.execute_input": "2022-07-03T12:31:36.991259Z",
     "iopub.status.busy": "2022-07-03T12:31:36.990373Z",
     "iopub.status.idle": "2022-07-03T12:31:37.017275Z",
     "shell.execute_reply": "2022-07-03T12:31:37.015963Z"
    },
    "papermill": {
     "duration": 0.039141,
     "end_time": "2022-07-03T12:31:37.019718",
     "exception": false,
     "start_time": "2022-07-03T12:31:36.980577",
     "status": "completed"
    },
    "tags": []
   },
   "outputs": [
    {
     "name": "stdout",
     "output_type": "stream",
     "text": [
      "                         id        class predicted\n",
      "0  case123_day20_slice_0001  large_bowel          \n",
      "1  case123_day20_slice_0001  small_bowel          \n",
      "2  case123_day20_slice_0001      stomach          \n",
      "3  case123_day20_slice_0002  large_bowel          \n",
      "4  case123_day20_slice_0002  small_bowel          \n"
     ]
    }
   ],
   "source": [
    "test_df = pd.read_csv('../input/uw-madison-gi-tract-image-segmentation/sample_submission.csv')\n",
    "\n",
    "if len(test_df)==0:\n",
    "    DEBUG=True\n",
    "    test_df = df1.iloc[:300,:]\n",
    "    test_df = test_df[[\"id\", \"class\"]]\n",
    "    test_df[\"predicted\"] = \"\"\n",
    "   \n",
    "else:\n",
    "    DEBUG=False\n",
    "\n",
    "submission1 = test_df.copy()\n",
    "print(test_df.head())\n"
   ]
  },
  {
   "cell_type": "code",
   "execution_count": 7,
   "id": "c337bd5d",
   "metadata": {
    "execution": {
     "iopub.execute_input": "2022-07-03T12:31:37.038479Z",
     "iopub.status.busy": "2022-07-03T12:31:37.038072Z",
     "iopub.status.idle": "2022-07-03T12:31:37.053453Z",
     "shell.execute_reply": "2022-07-03T12:31:37.052292Z"
    },
    "papermill": {
     "duration": 0.027628,
     "end_time": "2022-07-03T12:31:37.055769",
     "exception": false,
     "start_time": "2022-07-03T12:31:37.028141",
     "status": "completed"
    },
    "tags": []
   },
   "outputs": [
    {
     "data": {
      "text/html": [
       "<div>\n",
       "<style scoped>\n",
       "    .dataframe tbody tr th:only-of-type {\n",
       "        vertical-align: middle;\n",
       "    }\n",
       "\n",
       "    .dataframe tbody tr th {\n",
       "        vertical-align: top;\n",
       "    }\n",
       "\n",
       "    .dataframe thead th {\n",
       "        text-align: right;\n",
       "    }\n",
       "</style>\n",
       "<table border=\"1\" class=\"dataframe\">\n",
       "  <thead>\n",
       "    <tr style=\"text-align: right;\">\n",
       "      <th></th>\n",
       "      <th>id</th>\n",
       "      <th>class</th>\n",
       "      <th>predicted</th>\n",
       "    </tr>\n",
       "  </thead>\n",
       "  <tbody>\n",
       "    <tr>\n",
       "      <th>0</th>\n",
       "      <td>case123_day20_slice_0001</td>\n",
       "      <td>large_bowel</td>\n",
       "      <td></td>\n",
       "    </tr>\n",
       "    <tr>\n",
       "      <th>1</th>\n",
       "      <td>case123_day20_slice_0001</td>\n",
       "      <td>small_bowel</td>\n",
       "      <td></td>\n",
       "    </tr>\n",
       "    <tr>\n",
       "      <th>2</th>\n",
       "      <td>case123_day20_slice_0001</td>\n",
       "      <td>stomach</td>\n",
       "      <td></td>\n",
       "    </tr>\n",
       "    <tr>\n",
       "      <th>3</th>\n",
       "      <td>case123_day20_slice_0002</td>\n",
       "      <td>large_bowel</td>\n",
       "      <td></td>\n",
       "    </tr>\n",
       "    <tr>\n",
       "      <th>4</th>\n",
       "      <td>case123_day20_slice_0002</td>\n",
       "      <td>small_bowel</td>\n",
       "      <td></td>\n",
       "    </tr>\n",
       "  </tbody>\n",
       "</table>\n",
       "</div>"
      ],
      "text/plain": [
       "                         id        class predicted\n",
       "0  case123_day20_slice_0001  large_bowel          \n",
       "1  case123_day20_slice_0001  small_bowel          \n",
       "2  case123_day20_slice_0001      stomach          \n",
       "3  case123_day20_slice_0002  large_bowel          \n",
       "4  case123_day20_slice_0002  small_bowel          "
      ]
     },
     "execution_count": 7,
     "metadata": {},
     "output_type": "execute_result"
    }
   ],
   "source": [
    "submission1.head()"
   ]
  },
  {
   "cell_type": "code",
   "execution_count": 8,
   "id": "2f848d2c",
   "metadata": {
    "execution": {
     "iopub.execute_input": "2022-07-03T12:31:37.074989Z",
     "iopub.status.busy": "2022-07-03T12:31:37.074572Z",
     "iopub.status.idle": "2022-07-03T12:31:37.094591Z",
     "shell.execute_reply": "2022-07-03T12:31:37.093428Z"
    },
    "papermill": {
     "duration": 0.032714,
     "end_time": "2022-07-03T12:31:37.097111",
     "exception": false,
     "start_time": "2022-07-03T12:31:37.064397",
     "status": "completed"
    },
    "tags": []
   },
   "outputs": [],
   "source": [
    "# Metadata\n",
    "def preprocessing(df, subset=\"train\"):\n",
    "    df[\"case\"] = df[\"id\"].apply(lambda x: int(x.split(\"_\")[0].replace(\"case\", \"\")))\n",
    "    df[\"day\"] = df[\"id\"].apply(lambda x: int(x.split(\"_\")[1].replace(\"day\", \"\")))\n",
    "    df[\"slice\"] = df[\"id\"].apply(lambda x: x.split(\"_\")[3])\n",
    "    \n",
    "    if (subset==\"train\") or (DEBUG):\n",
    "        DIR=\"../input/uw-madison-gi-tract-image-segmentation/train\"\n",
    "        #DIR=\"/content/drive/MyDrive/Kaggle/uw-madison-gi-tract-image-segmentation/train\"\n",
    "    else:\n",
    "        DIR=\"../input/uw-madison-gi-tract-image-segmentation/test\"\n",
    "        #DIR=\"/content/drive/MyDrive/Kaggle/uw-madison-gi-tract-image-segmentation/test\"\n",
    "    \n",
    "    all_images = glob(os.path.join(DIR, \"**\", \"*.png\"), recursive=True)\n",
    "    x = all_images[0].rsplit(\"/\", 4)[0] \n",
    "\n",
    "    path_partial_list = []\n",
    "    for i in range(0, df.shape[0]):\n",
    "        path_partial_list.append(os.path.join(x,\n",
    "                              \"case\"+str(df[\"case\"].values[i]),\n",
    "                              \"case\"+str(df[\"case\"].values[i])+\"_\"+ \"day\"+str(df[\"day\"].values[i]),\n",
    "                              \"scans\",\n",
    "                              \"slice_\"+str(df[\"slice\"].values[i])))\n",
    "    df[\"path_partial\"] = path_partial_list\n",
    "    #--------------------------------------------------------------------------\n",
    "    path_partial_list = []\n",
    "    for i in range(0, len(all_images)):\n",
    "        path_partial_list.append(str(all_images[i].rsplit(\"_\",4)[0]))\n",
    "\n",
    "    tmp_df = pd.DataFrame()\n",
    "    tmp_df['path_partial'] = path_partial_list\n",
    "    tmp_df['path'] = all_images\n",
    "\n",
    "    #--------------------------------------------------------------------------\n",
    "    df = df.merge(tmp_df, on=\"path_partial\").drop(columns=[\"path_partial\"])\n",
    "    #print(df['id'])\n",
    "    #--------------------------------------------------------------------------\n",
    "    df[\"filename\"] = df[\"path\"].apply(lambda x: x.split('/')[-1])\n",
    "    df['unique_filename'] = df.apply(lambda row: str(row.case) + '_' + str(row.day)+'_'+str(row.filename), axis=1)\n",
    "\n",
    "    df[\"width\"] = df[\"path\"].apply(lambda x: int(x[:-4].rsplit(\"_\",4)[1]))\n",
    "    df[\"height\"] = df[\"path\"].apply(lambda x: int(x[:-4].rsplit(\"_\",4)[2]))\n",
    "    #--------------------------------------------------------------------------\n",
    "    df[\"px_spacing_h\"] = df[\"path\"].apply(lambda x: float(x[:-4].rsplit(\"_\",4)[3]))\n",
    "    df[\"px_spacing_w\"] = df[\"path\"].apply(lambda x: float(x[:-4].rsplit(\"_\",4)[4][:4]))\n",
    "    #--------------------------------------------------------------------------\n",
    "    del x, path_partial_list, tmp_df\n",
    "    #--------------------------------------------------------------------------\n",
    "    # new_col_order = [\"id\", \"path\", \"segmentation\"\n",
    "    #                  \"height\", \"width\", \"px_spacing_h\", \n",
    "    #                  \"px_spacing_w\",  \"case\",  \"day\", \"slice\",]\n",
    "\n",
    "    # if subset!=\"train\": \n",
    "    #   new_col_order.insert(1, \"class\")\n",
    "\n",
    "    # new_col_order = [_c for _c in new_col_order if _c in df.columns]\n",
    "    # df = df[new_col_order]\n",
    "    return df"
   ]
  },
  {
   "cell_type": "code",
   "execution_count": 9,
   "id": "1e06bb44",
   "metadata": {
    "execution": {
     "iopub.execute_input": "2022-07-03T12:31:37.116636Z",
     "iopub.status.busy": "2022-07-03T12:31:37.116232Z",
     "iopub.status.idle": "2022-07-03T12:31:41.554313Z",
     "shell.execute_reply": "2022-07-03T12:31:41.553289Z"
    },
    "papermill": {
     "duration": 4.450703,
     "end_time": "2022-07-03T12:31:41.556710",
     "exception": false,
     "start_time": "2022-07-03T12:31:37.106007",
     "status": "completed"
    },
    "tags": []
   },
   "outputs": [
    {
     "name": "stdout",
     "output_type": "stream",
     "text": [
      "(300, 13)\n"
     ]
    },
    {
     "data": {
      "text/html": [
       "<div>\n",
       "<style scoped>\n",
       "    .dataframe tbody tr th:only-of-type {\n",
       "        vertical-align: middle;\n",
       "    }\n",
       "\n",
       "    .dataframe tbody tr th {\n",
       "        vertical-align: top;\n",
       "    }\n",
       "\n",
       "    .dataframe thead th {\n",
       "        text-align: right;\n",
       "    }\n",
       "</style>\n",
       "<table border=\"1\" class=\"dataframe\">\n",
       "  <thead>\n",
       "    <tr style=\"text-align: right;\">\n",
       "      <th></th>\n",
       "      <th>id</th>\n",
       "      <th>class</th>\n",
       "      <th>predicted</th>\n",
       "      <th>case</th>\n",
       "      <th>day</th>\n",
       "      <th>slice</th>\n",
       "      <th>path</th>\n",
       "      <th>filename</th>\n",
       "      <th>unique_filename</th>\n",
       "      <th>width</th>\n",
       "      <th>height</th>\n",
       "      <th>px_spacing_h</th>\n",
       "      <th>px_spacing_w</th>\n",
       "    </tr>\n",
       "  </thead>\n",
       "  <tbody>\n",
       "    <tr>\n",
       "      <th>0</th>\n",
       "      <td>case123_day20_slice_0001</td>\n",
       "      <td>large_bowel</td>\n",
       "      <td></td>\n",
       "      <td>123</td>\n",
       "      <td>20</td>\n",
       "      <td>0001</td>\n",
       "      <td>../input/uw-madison-gi-tract-image-segmentatio...</td>\n",
       "      <td>slice_0001_266_266_1.50_1.50.png</td>\n",
       "      <td>123_20_slice_0001_266_266_1.50_1.50.png</td>\n",
       "      <td>266</td>\n",
       "      <td>266</td>\n",
       "      <td>1.5</td>\n",
       "      <td>1.5</td>\n",
       "    </tr>\n",
       "    <tr>\n",
       "      <th>1</th>\n",
       "      <td>case123_day20_slice_0001</td>\n",
       "      <td>small_bowel</td>\n",
       "      <td></td>\n",
       "      <td>123</td>\n",
       "      <td>20</td>\n",
       "      <td>0001</td>\n",
       "      <td>../input/uw-madison-gi-tract-image-segmentatio...</td>\n",
       "      <td>slice_0001_266_266_1.50_1.50.png</td>\n",
       "      <td>123_20_slice_0001_266_266_1.50_1.50.png</td>\n",
       "      <td>266</td>\n",
       "      <td>266</td>\n",
       "      <td>1.5</td>\n",
       "      <td>1.5</td>\n",
       "    </tr>\n",
       "    <tr>\n",
       "      <th>2</th>\n",
       "      <td>case123_day20_slice_0001</td>\n",
       "      <td>stomach</td>\n",
       "      <td></td>\n",
       "      <td>123</td>\n",
       "      <td>20</td>\n",
       "      <td>0001</td>\n",
       "      <td>../input/uw-madison-gi-tract-image-segmentatio...</td>\n",
       "      <td>slice_0001_266_266_1.50_1.50.png</td>\n",
       "      <td>123_20_slice_0001_266_266_1.50_1.50.png</td>\n",
       "      <td>266</td>\n",
       "      <td>266</td>\n",
       "      <td>1.5</td>\n",
       "      <td>1.5</td>\n",
       "    </tr>\n",
       "    <tr>\n",
       "      <th>3</th>\n",
       "      <td>case123_day20_slice_0002</td>\n",
       "      <td>large_bowel</td>\n",
       "      <td></td>\n",
       "      <td>123</td>\n",
       "      <td>20</td>\n",
       "      <td>0002</td>\n",
       "      <td>../input/uw-madison-gi-tract-image-segmentatio...</td>\n",
       "      <td>slice_0002_266_266_1.50_1.50.png</td>\n",
       "      <td>123_20_slice_0002_266_266_1.50_1.50.png</td>\n",
       "      <td>266</td>\n",
       "      <td>266</td>\n",
       "      <td>1.5</td>\n",
       "      <td>1.5</td>\n",
       "    </tr>\n",
       "    <tr>\n",
       "      <th>4</th>\n",
       "      <td>case123_day20_slice_0002</td>\n",
       "      <td>small_bowel</td>\n",
       "      <td></td>\n",
       "      <td>123</td>\n",
       "      <td>20</td>\n",
       "      <td>0002</td>\n",
       "      <td>../input/uw-madison-gi-tract-image-segmentatio...</td>\n",
       "      <td>slice_0002_266_266_1.50_1.50.png</td>\n",
       "      <td>123_20_slice_0002_266_266_1.50_1.50.png</td>\n",
       "      <td>266</td>\n",
       "      <td>266</td>\n",
       "      <td>1.5</td>\n",
       "      <td>1.5</td>\n",
       "    </tr>\n",
       "  </tbody>\n",
       "</table>\n",
       "</div>"
      ],
      "text/plain": [
       "                         id        class predicted  case  day slice  \\\n",
       "0  case123_day20_slice_0001  large_bowel             123   20  0001   \n",
       "1  case123_day20_slice_0001  small_bowel             123   20  0001   \n",
       "2  case123_day20_slice_0001      stomach             123   20  0001   \n",
       "3  case123_day20_slice_0002  large_bowel             123   20  0002   \n",
       "4  case123_day20_slice_0002  small_bowel             123   20  0002   \n",
       "\n",
       "                                                path  \\\n",
       "0  ../input/uw-madison-gi-tract-image-segmentatio...   \n",
       "1  ../input/uw-madison-gi-tract-image-segmentatio...   \n",
       "2  ../input/uw-madison-gi-tract-image-segmentatio...   \n",
       "3  ../input/uw-madison-gi-tract-image-segmentatio...   \n",
       "4  ../input/uw-madison-gi-tract-image-segmentatio...   \n",
       "\n",
       "                           filename                          unique_filename  \\\n",
       "0  slice_0001_266_266_1.50_1.50.png  123_20_slice_0001_266_266_1.50_1.50.png   \n",
       "1  slice_0001_266_266_1.50_1.50.png  123_20_slice_0001_266_266_1.50_1.50.png   \n",
       "2  slice_0001_266_266_1.50_1.50.png  123_20_slice_0001_266_266_1.50_1.50.png   \n",
       "3  slice_0002_266_266_1.50_1.50.png  123_20_slice_0002_266_266_1.50_1.50.png   \n",
       "4  slice_0002_266_266_1.50_1.50.png  123_20_slice_0002_266_266_1.50_1.50.png   \n",
       "\n",
       "   width  height  px_spacing_h  px_spacing_w  \n",
       "0    266     266           1.5           1.5  \n",
       "1    266     266           1.5           1.5  \n",
       "2    266     266           1.5           1.5  \n",
       "3    266     266           1.5           1.5  \n",
       "4    266     266           1.5           1.5  "
      ]
     },
     "execution_count": 9,
     "metadata": {},
     "output_type": "execute_result"
    }
   ],
   "source": [
    "test_df = preprocessing(test_df, subset=\"test\")\n",
    "print(test_df.shape)\n",
    "test_df.head()"
   ]
  },
  {
   "cell_type": "code",
   "execution_count": 10,
   "id": "8977baeb",
   "metadata": {
    "execution": {
     "iopub.execute_input": "2022-07-03T12:31:41.578136Z",
     "iopub.status.busy": "2022-07-03T12:31:41.577201Z",
     "iopub.status.idle": "2022-07-03T12:31:51.105481Z",
     "shell.execute_reply": "2022-07-03T12:31:51.104716Z"
    },
    "papermill": {
     "duration": 9.540835,
     "end_time": "2022-07-03T12:31:51.107611",
     "exception": false,
     "start_time": "2022-07-03T12:31:41.566776",
     "status": "completed"
    },
    "tags": []
   },
   "outputs": [
    {
     "data": {
      "text/html": [
       "<div>\n",
       "<style scoped>\n",
       "    .dataframe tbody tr th:only-of-type {\n",
       "        vertical-align: middle;\n",
       "    }\n",
       "\n",
       "    .dataframe tbody tr th {\n",
       "        vertical-align: top;\n",
       "    }\n",
       "\n",
       "    .dataframe thead th {\n",
       "        text-align: right;\n",
       "    }\n",
       "</style>\n",
       "<table border=\"1\" class=\"dataframe\">\n",
       "  <thead>\n",
       "    <tr style=\"text-align: right;\">\n",
       "      <th></th>\n",
       "      <th>id</th>\n",
       "      <th>class</th>\n",
       "      <th>segmentation</th>\n",
       "      <th>case</th>\n",
       "      <th>day</th>\n",
       "      <th>slice</th>\n",
       "      <th>path</th>\n",
       "      <th>filename</th>\n",
       "      <th>unique_filename</th>\n",
       "      <th>width</th>\n",
       "      <th>height</th>\n",
       "      <th>px_spacing_h</th>\n",
       "      <th>px_spacing_w</th>\n",
       "    </tr>\n",
       "  </thead>\n",
       "  <tbody>\n",
       "    <tr>\n",
       "      <th>0</th>\n",
       "      <td>case123_day20_slice_0001</td>\n",
       "      <td>large_bowel</td>\n",
       "      <td>NaN</td>\n",
       "      <td>123</td>\n",
       "      <td>20</td>\n",
       "      <td>0001</td>\n",
       "      <td>../input/uw-madison-gi-tract-image-segmentatio...</td>\n",
       "      <td>slice_0001_266_266_1.50_1.50.png</td>\n",
       "      <td>123_20_slice_0001_266_266_1.50_1.50.png</td>\n",
       "      <td>266</td>\n",
       "      <td>266</td>\n",
       "      <td>1.5</td>\n",
       "      <td>1.5</td>\n",
       "    </tr>\n",
       "    <tr>\n",
       "      <th>1</th>\n",
       "      <td>case123_day20_slice_0001</td>\n",
       "      <td>small_bowel</td>\n",
       "      <td>NaN</td>\n",
       "      <td>123</td>\n",
       "      <td>20</td>\n",
       "      <td>0001</td>\n",
       "      <td>../input/uw-madison-gi-tract-image-segmentatio...</td>\n",
       "      <td>slice_0001_266_266_1.50_1.50.png</td>\n",
       "      <td>123_20_slice_0001_266_266_1.50_1.50.png</td>\n",
       "      <td>266</td>\n",
       "      <td>266</td>\n",
       "      <td>1.5</td>\n",
       "      <td>1.5</td>\n",
       "    </tr>\n",
       "    <tr>\n",
       "      <th>2</th>\n",
       "      <td>case123_day20_slice_0001</td>\n",
       "      <td>stomach</td>\n",
       "      <td>NaN</td>\n",
       "      <td>123</td>\n",
       "      <td>20</td>\n",
       "      <td>0001</td>\n",
       "      <td>../input/uw-madison-gi-tract-image-segmentatio...</td>\n",
       "      <td>slice_0001_266_266_1.50_1.50.png</td>\n",
       "      <td>123_20_slice_0001_266_266_1.50_1.50.png</td>\n",
       "      <td>266</td>\n",
       "      <td>266</td>\n",
       "      <td>1.5</td>\n",
       "      <td>1.5</td>\n",
       "    </tr>\n",
       "    <tr>\n",
       "      <th>3</th>\n",
       "      <td>case123_day20_slice_0002</td>\n",
       "      <td>large_bowel</td>\n",
       "      <td>NaN</td>\n",
       "      <td>123</td>\n",
       "      <td>20</td>\n",
       "      <td>0002</td>\n",
       "      <td>../input/uw-madison-gi-tract-image-segmentatio...</td>\n",
       "      <td>slice_0002_266_266_1.50_1.50.png</td>\n",
       "      <td>123_20_slice_0002_266_266_1.50_1.50.png</td>\n",
       "      <td>266</td>\n",
       "      <td>266</td>\n",
       "      <td>1.5</td>\n",
       "      <td>1.5</td>\n",
       "    </tr>\n",
       "    <tr>\n",
       "      <th>4</th>\n",
       "      <td>case123_day20_slice_0002</td>\n",
       "      <td>small_bowel</td>\n",
       "      <td>NaN</td>\n",
       "      <td>123</td>\n",
       "      <td>20</td>\n",
       "      <td>0002</td>\n",
       "      <td>../input/uw-madison-gi-tract-image-segmentatio...</td>\n",
       "      <td>slice_0002_266_266_1.50_1.50.png</td>\n",
       "      <td>123_20_slice_0002_266_266_1.50_1.50.png</td>\n",
       "      <td>266</td>\n",
       "      <td>266</td>\n",
       "      <td>1.5</td>\n",
       "      <td>1.5</td>\n",
       "    </tr>\n",
       "  </tbody>\n",
       "</table>\n",
       "</div>"
      ],
      "text/plain": [
       "                         id        class segmentation  case  day slice  \\\n",
       "0  case123_day20_slice_0001  large_bowel          NaN   123   20  0001   \n",
       "1  case123_day20_slice_0001  small_bowel          NaN   123   20  0001   \n",
       "2  case123_day20_slice_0001      stomach          NaN   123   20  0001   \n",
       "3  case123_day20_slice_0002  large_bowel          NaN   123   20  0002   \n",
       "4  case123_day20_slice_0002  small_bowel          NaN   123   20  0002   \n",
       "\n",
       "                                                path  \\\n",
       "0  ../input/uw-madison-gi-tract-image-segmentatio...   \n",
       "1  ../input/uw-madison-gi-tract-image-segmentatio...   \n",
       "2  ../input/uw-madison-gi-tract-image-segmentatio...   \n",
       "3  ../input/uw-madison-gi-tract-image-segmentatio...   \n",
       "4  ../input/uw-madison-gi-tract-image-segmentatio...   \n",
       "\n",
       "                           filename                          unique_filename  \\\n",
       "0  slice_0001_266_266_1.50_1.50.png  123_20_slice_0001_266_266_1.50_1.50.png   \n",
       "1  slice_0001_266_266_1.50_1.50.png  123_20_slice_0001_266_266_1.50_1.50.png   \n",
       "2  slice_0001_266_266_1.50_1.50.png  123_20_slice_0001_266_266_1.50_1.50.png   \n",
       "3  slice_0002_266_266_1.50_1.50.png  123_20_slice_0002_266_266_1.50_1.50.png   \n",
       "4  slice_0002_266_266_1.50_1.50.png  123_20_slice_0002_266_266_1.50_1.50.png   \n",
       "\n",
       "   width  height  px_spacing_h  px_spacing_w  \n",
       "0    266     266           1.5           1.5  \n",
       "1    266     266           1.5           1.5  \n",
       "2    266     266           1.5           1.5  \n",
       "3    266     266           1.5           1.5  \n",
       "4    266     266           1.5           1.5  "
      ]
     },
     "execution_count": 10,
     "metadata": {},
     "output_type": "execute_result"
    }
   ],
   "source": [
    "train_df = preprocessing(df1, subset=\"train\")\n",
    "train_df.head()"
   ]
  },
  {
   "cell_type": "code",
   "execution_count": 11,
   "id": "8736f292",
   "metadata": {
    "execution": {
     "iopub.execute_input": "2022-07-03T12:31:51.128279Z",
     "iopub.status.busy": "2022-07-03T12:31:51.127684Z",
     "iopub.status.idle": "2022-07-03T12:31:51.219901Z",
     "shell.execute_reply": "2022-07-03T12:31:51.218818Z"
    },
    "papermill": {
     "duration": 0.105434,
     "end_time": "2022-07-03T12:31:51.222348",
     "exception": false,
     "start_time": "2022-07-03T12:31:51.116914",
     "status": "completed"
    },
    "tags": []
   },
   "outputs": [],
   "source": [
    "# Remove misslabeled training data\n",
    "train_df = train_df[(train_df['case'] != 7) | (train_df['case'] != 0)].reset_index(drop=True)\n",
    "train_df = train_df[(train_df['case'] != 81) | (train_df['case'] != 30)].reset_index(drop=True)\n"
   ]
  },
  {
   "cell_type": "code",
   "execution_count": 12,
   "id": "a42e7c8b",
   "metadata": {
    "execution": {
     "iopub.execute_input": "2022-07-03T12:31:51.243347Z",
     "iopub.status.busy": "2022-07-03T12:31:51.242768Z",
     "iopub.status.idle": "2022-07-03T12:31:51.342938Z",
     "shell.execute_reply": "2022-07-03T12:31:51.341854Z"
    },
    "papermill": {
     "duration": 0.113501,
     "end_time": "2022-07-03T12:31:51.345335",
     "exception": false,
     "start_time": "2022-07-03T12:31:51.231834",
     "status": "completed"
    },
    "tags": []
   },
   "outputs": [],
   "source": [
    "def segment(df, subset=\"train\"):\n",
    "    # RESTRUCTURE  DATAFRAME\n",
    "    df_out = pd.DataFrame({'id': df['id'][::3]})\n",
    "\n",
    "    if subset == \"train\":\n",
    "        df_out['large_bowel'] = df['segmentation'][::3].values\n",
    "        df_out['small_bowel'] = df['segmentation'][1::3].values\n",
    "        df_out['stomach'] = df['segmentation'][2::3].values\n",
    "\n",
    "    df_out['path'] = df['path'][::3].values\n",
    "    df_out['case'] = df['case'][::3].values\n",
    "    df_out['day'] = df['day'][::3].values\n",
    "    df_out['slice'] = df['slice'][::3].values\n",
    "    df_out['width'] = df['width'][::3].values\n",
    "    df_out['height'] = df['height'][::3].values\n",
    "    df_out['px_spacing_h'] =  df['px_spacing_h'][::3].values\n",
    "    df_out['px_spacing_w'] =  df['px_spacing_w'][::3].values\n",
    "    df_out['filename'] = df['filename'][::3].values\n",
    "    df_out['unique_filename'] = df['unique_filename'][::3].values\n",
    "  # final_df = final_df.drop_duplicates(subset=[\"id\"])\n",
    "\n",
    "    df_out.reset_index(inplace=True,drop=True)\n",
    "    df_out.fillna('',inplace=True)\n",
    "    if subset==\"train\":\n",
    "        df_out['count'] = np.sum(df_out.iloc[:,1:4]!='',axis=1).values\n",
    "    \n",
    "    return df_out\n",
    "    \n",
    "train_df = segment(train_df)"
   ]
  },
  {
   "cell_type": "code",
   "execution_count": 13,
   "id": "0d0a9e67",
   "metadata": {
    "execution": {
     "iopub.execute_input": "2022-07-03T12:31:51.365924Z",
     "iopub.status.busy": "2022-07-03T12:31:51.365262Z",
     "iopub.status.idle": "2022-07-03T12:31:51.400611Z",
     "shell.execute_reply": "2022-07-03T12:31:51.399386Z"
    },
    "papermill": {
     "duration": 0.048447,
     "end_time": "2022-07-03T12:31:51.402994",
     "exception": false,
     "start_time": "2022-07-03T12:31:51.354547",
     "status": "completed"
    },
    "tags": []
   },
   "outputs": [
    {
     "data": {
      "text/html": [
       "<div>\n",
       "<style scoped>\n",
       "    .dataframe tbody tr th:only-of-type {\n",
       "        vertical-align: middle;\n",
       "    }\n",
       "\n",
       "    .dataframe tbody tr th {\n",
       "        vertical-align: top;\n",
       "    }\n",
       "\n",
       "    .dataframe thead th {\n",
       "        text-align: right;\n",
       "    }\n",
       "</style>\n",
       "<table border=\"1\" class=\"dataframe\">\n",
       "  <thead>\n",
       "    <tr style=\"text-align: right;\">\n",
       "      <th></th>\n",
       "      <th>id</th>\n",
       "      <th>large_bowel</th>\n",
       "      <th>small_bowel</th>\n",
       "      <th>stomach</th>\n",
       "      <th>path</th>\n",
       "      <th>case</th>\n",
       "      <th>day</th>\n",
       "      <th>slice</th>\n",
       "      <th>width</th>\n",
       "      <th>height</th>\n",
       "      <th>px_spacing_h</th>\n",
       "      <th>px_spacing_w</th>\n",
       "      <th>filename</th>\n",
       "      <th>unique_filename</th>\n",
       "      <th>count</th>\n",
       "    </tr>\n",
       "  </thead>\n",
       "  <tbody>\n",
       "    <tr>\n",
       "      <th>15331</th>\n",
       "      <td>case154_day16_slice_0100</td>\n",
       "      <td>30913 3 31178 7 31443 10 31708 13 31973 15 321...</td>\n",
       "      <td>22491 5 22755 9 23010 3 23020 12 23274 7 23284...</td>\n",
       "      <td></td>\n",
       "      <td>../input/uw-madison-gi-tract-image-segmentatio...</td>\n",
       "      <td>154</td>\n",
       "      <td>16</td>\n",
       "      <td>0100</td>\n",
       "      <td>266</td>\n",
       "      <td>266</td>\n",
       "      <td>1.5</td>\n",
       "      <td>1.5</td>\n",
       "      <td>slice_0100_266_266_1.50_1.50.png</td>\n",
       "      <td>154_16_slice_0100_266_266_1.50_1.50.png</td>\n",
       "      <td>2</td>\n",
       "    </tr>\n",
       "    <tr>\n",
       "      <th>21151</th>\n",
       "      <td>case148_day20_slice_0016</td>\n",
       "      <td></td>\n",
       "      <td></td>\n",
       "      <td></td>\n",
       "      <td>../input/uw-madison-gi-tract-image-segmentatio...</td>\n",
       "      <td>148</td>\n",
       "      <td>20</td>\n",
       "      <td>0016</td>\n",
       "      <td>360</td>\n",
       "      <td>310</td>\n",
       "      <td>1.5</td>\n",
       "      <td>1.5</td>\n",
       "      <td>slice_0016_360_310_1.50_1.50.png</td>\n",
       "      <td>148_20_slice_0016_360_310_1.50_1.50.png</td>\n",
       "      <td>0</td>\n",
       "    </tr>\n",
       "    <tr>\n",
       "      <th>24579</th>\n",
       "      <td>case108_day13_slice_0020</td>\n",
       "      <td></td>\n",
       "      <td></td>\n",
       "      <td></td>\n",
       "      <td>../input/uw-madison-gi-tract-image-segmentatio...</td>\n",
       "      <td>108</td>\n",
       "      <td>13</td>\n",
       "      <td>0020</td>\n",
       "      <td>266</td>\n",
       "      <td>266</td>\n",
       "      <td>1.5</td>\n",
       "      <td>1.5</td>\n",
       "      <td>slice_0020_266_266_1.50_1.50.png</td>\n",
       "      <td>108_13_slice_0020_266_266_1.50_1.50.png</td>\n",
       "      <td>0</td>\n",
       "    </tr>\n",
       "    <tr>\n",
       "      <th>12267</th>\n",
       "      <td>case113_day12_slice_0060</td>\n",
       "      <td>39474 9 39832 14 40191 17 40550 19 40909 20 41...</td>\n",
       "      <td></td>\n",
       "      <td>30434 9 30791 15 31149 20 31508 22 31867 24 32...</td>\n",
       "      <td>../input/uw-madison-gi-tract-image-segmentatio...</td>\n",
       "      <td>113</td>\n",
       "      <td>12</td>\n",
       "      <td>0060</td>\n",
       "      <td>360</td>\n",
       "      <td>310</td>\n",
       "      <td>1.5</td>\n",
       "      <td>1.5</td>\n",
       "      <td>slice_0060_360_310_1.50_1.50.png</td>\n",
       "      <td>113_12_slice_0060_360_310_1.50_1.50.png</td>\n",
       "      <td>2</td>\n",
       "    </tr>\n",
       "    <tr>\n",
       "      <th>11821</th>\n",
       "      <td>case113_day19_slice_0046</td>\n",
       "      <td></td>\n",
       "      <td></td>\n",
       "      <td></td>\n",
       "      <td>../input/uw-madison-gi-tract-image-segmentatio...</td>\n",
       "      <td>113</td>\n",
       "      <td>19</td>\n",
       "      <td>0046</td>\n",
       "      <td>360</td>\n",
       "      <td>310</td>\n",
       "      <td>1.5</td>\n",
       "      <td>1.5</td>\n",
       "      <td>slice_0046_360_310_1.50_1.50.png</td>\n",
       "      <td>113_19_slice_0046_360_310_1.50_1.50.png</td>\n",
       "      <td>0</td>\n",
       "    </tr>\n",
       "  </tbody>\n",
       "</table>\n",
       "</div>"
      ],
      "text/plain": [
       "                             id  \\\n",
       "15331  case154_day16_slice_0100   \n",
       "21151  case148_day20_slice_0016   \n",
       "24579  case108_day13_slice_0020   \n",
       "12267  case113_day12_slice_0060   \n",
       "11821  case113_day19_slice_0046   \n",
       "\n",
       "                                             large_bowel  \\\n",
       "15331  30913 3 31178 7 31443 10 31708 13 31973 15 321...   \n",
       "21151                                                      \n",
       "24579                                                      \n",
       "12267  39474 9 39832 14 40191 17 40550 19 40909 20 41...   \n",
       "11821                                                      \n",
       "\n",
       "                                             small_bowel  \\\n",
       "15331  22491 5 22755 9 23010 3 23020 12 23274 7 23284...   \n",
       "21151                                                      \n",
       "24579                                                      \n",
       "12267                                                      \n",
       "11821                                                      \n",
       "\n",
       "                                                 stomach  \\\n",
       "15331                                                      \n",
       "21151                                                      \n",
       "24579                                                      \n",
       "12267  30434 9 30791 15 31149 20 31508 22 31867 24 32...   \n",
       "11821                                                      \n",
       "\n",
       "                                                    path  case  day slice  \\\n",
       "15331  ../input/uw-madison-gi-tract-image-segmentatio...   154   16  0100   \n",
       "21151  ../input/uw-madison-gi-tract-image-segmentatio...   148   20  0016   \n",
       "24579  ../input/uw-madison-gi-tract-image-segmentatio...   108   13  0020   \n",
       "12267  ../input/uw-madison-gi-tract-image-segmentatio...   113   12  0060   \n",
       "11821  ../input/uw-madison-gi-tract-image-segmentatio...   113   19  0046   \n",
       "\n",
       "       width  height  px_spacing_h  px_spacing_w  \\\n",
       "15331    266     266           1.5           1.5   \n",
       "21151    360     310           1.5           1.5   \n",
       "24579    266     266           1.5           1.5   \n",
       "12267    360     310           1.5           1.5   \n",
       "11821    360     310           1.5           1.5   \n",
       "\n",
       "                               filename  \\\n",
       "15331  slice_0100_266_266_1.50_1.50.png   \n",
       "21151  slice_0016_360_310_1.50_1.50.png   \n",
       "24579  slice_0020_266_266_1.50_1.50.png   \n",
       "12267  slice_0060_360_310_1.50_1.50.png   \n",
       "11821  slice_0046_360_310_1.50_1.50.png   \n",
       "\n",
       "                               unique_filename  count  \n",
       "15331  154_16_slice_0100_266_266_1.50_1.50.png      2  \n",
       "21151  148_20_slice_0016_360_310_1.50_1.50.png      0  \n",
       "24579  108_13_slice_0020_266_266_1.50_1.50.png      0  \n",
       "12267  113_12_slice_0060_360_310_1.50_1.50.png      2  \n",
       "11821  113_19_slice_0046_360_310_1.50_1.50.png      0  "
      ]
     },
     "execution_count": 13,
     "metadata": {},
     "output_type": "execute_result"
    }
   ],
   "source": [
    "train_df.sample(5)"
   ]
  },
  {
   "cell_type": "markdown",
   "id": "68a93435",
   "metadata": {
    "papermill": {
     "duration": 0.009263,
     "end_time": "2022-07-03T12:31:51.421803",
     "exception": false,
     "start_time": "2022-07-03T12:31:51.412540",
     "status": "completed"
    },
    "tags": []
   },
   "source": [
    "## Data Generator"
   ]
  },
  {
   "cell_type": "code",
   "execution_count": 14,
   "id": "cf4f461e",
   "metadata": {
    "execution": {
     "iopub.execute_input": "2022-07-03T12:31:51.442566Z",
     "iopub.status.busy": "2022-07-03T12:31:51.442180Z",
     "iopub.status.idle": "2022-07-03T12:31:51.447599Z",
     "shell.execute_reply": "2022-07-03T12:31:51.446480Z"
    },
    "papermill": {
     "duration": 0.018431,
     "end_time": "2022-07-03T12:31:51.449865",
     "exception": false,
     "start_time": "2022-07-03T12:31:51.431434",
     "status": "completed"
    },
    "tags": []
   },
   "outputs": [],
   "source": [
    "BATCH_SIZE = 32\n",
    "im_height = 128\n",
    "im_width = 128"
   ]
  },
  {
   "cell_type": "code",
   "execution_count": 15,
   "id": "2a619713",
   "metadata": {
    "execution": {
     "iopub.execute_input": "2022-07-03T12:31:51.471308Z",
     "iopub.status.busy": "2022-07-03T12:31:51.470417Z",
     "iopub.status.idle": "2022-07-03T12:31:51.488321Z",
     "shell.execute_reply": "2022-07-03T12:31:51.487193Z"
    },
    "papermill": {
     "duration": 0.031338,
     "end_time": "2022-07-03T12:31:51.490741",
     "exception": false,
     "start_time": "2022-07-03T12:31:51.459403",
     "status": "completed"
    },
    "tags": []
   },
   "outputs": [],
   "source": [
    "\n",
    "class DataGenerator(tf.keras.utils.Sequence):\n",
    "    def __init__(self, df, batch_size = BATCH_SIZE, subset=\"train\", shuffle=False):\n",
    "        super().__init__()\n",
    "        self.df = df\n",
    "        self.shuffle = shuffle\n",
    "        self.subset = subset\n",
    "        self.batch_size = batch_size\n",
    "        self.indexes = np.arange(len(df))\n",
    "        \n",
    "        self.on_epoch_end()\n",
    "\n",
    "    def __len__(self):\n",
    "        return int(np.ceil(len(self.df) / self.batch_size))\n",
    "    \n",
    "    def on_epoch_end(self):\n",
    "      # 'Updates indexes after each epoch'\n",
    "      # self.indexes = np.arrange(len(self.df))\n",
    "        if self.shuffle == True:\n",
    "            np.random.shuffle(self.indexes)\n",
    "    \n",
    "    def __getitem__(self, index):\n",
    "      #  GET ONE BATCH\n",
    "        X = np.empty((self.batch_size,im_height,im_width,3))\n",
    "        y = np.empty((self.batch_size,im_height,im_width,3))\n",
    "        indexes = self.indexes[index*self.batch_size:(index+1)*self.batch_size]\n",
    "   \n",
    "        ids = list(self.df['id'].iloc[indexes])\n",
    "        #print(self.ids)\n",
    "        for i, img_path in enumerate(self.df['path'].iloc[indexes]):\n",
    "            w=self.df['width'].iloc[indexes[i]]\n",
    "            h=self.df['height'].iloc[indexes[i]]\n",
    "            img = self.__load_grayscale(img_path)  # shape: (128,128,1)\n",
    "            X[i,] =img   # broadcast to shape: (128,128,3)\n",
    "            if self.subset == 'train':\n",
    "                for k,j in enumerate([\"large_bowel\",\"small_bowel\",\"stomach\"]):\n",
    "                    rles = self.df[j].iloc[indexes[i]]\n",
    "                    # ids = ids.append([self.df['id'].iloc[indexes[i]], self.df[j].iloc[indexes[i]]])\n",
    "                    mask = rle_decode(rles, shape=(h, w, 1))\n",
    "                    mask = cv2.resize(mask, (im_height,im_width))\n",
    "                    y[i,:,:,k] = mask\n",
    "        if self.subset == 'train':\n",
    "            return X, y\n",
    "        else: \n",
    "            return X, ids\n",
    "        \n",
    "    def __load_grayscale(self, img_path):\n",
    "        img = cv2.imread(img_path, cv2.IMREAD_ANYDEPTH)\n",
    "        dsize = (im_height,im_width)\n",
    "        img = cv2.resize(img, dsize)\n",
    "        img = img.astype(np.float32) / 255.\n",
    "        img = np.expand_dims(img, axis=-1)\n",
    "        return img"
   ]
  },
  {
   "cell_type": "markdown",
   "id": "8437ea84",
   "metadata": {
    "papermill": {
     "duration": 0.009387,
     "end_time": "2022-07-03T12:31:51.509715",
     "exception": false,
     "start_time": "2022-07-03T12:31:51.500328",
     "status": "completed"
    },
    "tags": []
   },
   "source": [
    "## Test set generation"
   ]
  },
  {
   "cell_type": "code",
   "execution_count": 16,
   "id": "8b3d2ff7",
   "metadata": {
    "execution": {
     "iopub.execute_input": "2022-07-03T12:31:51.530655Z",
     "iopub.status.busy": "2022-07-03T12:31:51.530288Z",
     "iopub.status.idle": "2022-07-03T12:31:51.535730Z",
     "shell.execute_reply": "2022-07-03T12:31:51.534651Z"
    },
    "papermill": {
     "duration": 0.018394,
     "end_time": "2022-07-03T12:31:51.537940",
     "exception": false,
     "start_time": "2022-07-03T12:31:51.519546",
     "status": "completed"
    },
    "tags": []
   },
   "outputs": [],
   "source": [
    "val_generator = DataGenerator(test_df, batch_size = BATCH_SIZE, subset=\"test\", shuffle=False)"
   ]
  },
  {
   "cell_type": "code",
   "execution_count": 17,
   "id": "7ed49883",
   "metadata": {
    "execution": {
     "iopub.execute_input": "2022-07-03T12:31:51.559368Z",
     "iopub.status.busy": "2022-07-03T12:31:51.558897Z",
     "iopub.status.idle": "2022-07-03T12:31:51.564555Z",
     "shell.execute_reply": "2022-07-03T12:31:51.563461Z"
    },
    "papermill": {
     "duration": 0.018963,
     "end_time": "2022-07-03T12:31:51.566660",
     "exception": false,
     "start_time": "2022-07-03T12:31:51.547697",
     "status": "completed"
    },
    "tags": []
   },
   "outputs": [
    {
     "name": "stdout",
     "output_type": "stream",
     "text": [
      "10\n",
      "32\n"
     ]
    }
   ],
   "source": [
    "print(len(val_generator))\n",
    "print(BATCH_SIZE)"
   ]
  },
  {
   "cell_type": "code",
   "execution_count": 18,
   "id": "a8503a2b",
   "metadata": {
    "execution": {
     "iopub.execute_input": "2022-07-03T12:31:51.587420Z",
     "iopub.status.busy": "2022-07-03T12:31:51.587010Z",
     "iopub.status.idle": "2022-07-03T12:31:51.820265Z",
     "shell.execute_reply": "2022-07-03T12:31:51.819459Z"
    },
    "papermill": {
     "duration": 0.246535,
     "end_time": "2022-07-03T12:31:51.822721",
     "exception": false,
     "start_time": "2022-07-03T12:31:51.576186",
     "status": "completed"
    },
    "tags": []
   },
   "outputs": [
    {
     "name": "stdout",
     "output_type": "stream",
     "text": [
      "['case123_day20_slice_0011', 'case123_day20_slice_0012', 'case123_day20_slice_0012', 'case123_day20_slice_0012', 'case123_day20_slice_0013', 'case123_day20_slice_0013', 'case123_day20_slice_0013', 'case123_day20_slice_0014', 'case123_day20_slice_0014', 'case123_day20_slice_0014', 'case123_day20_slice_0015', 'case123_day20_slice_0015', 'case123_day20_slice_0015', 'case123_day20_slice_0016', 'case123_day20_slice_0016', 'case123_day20_slice_0016', 'case123_day20_slice_0017', 'case123_day20_slice_0017', 'case123_day20_slice_0017', 'case123_day20_slice_0018', 'case123_day20_slice_0018', 'case123_day20_slice_0018', 'case123_day20_slice_0019', 'case123_day20_slice_0019', 'case123_day20_slice_0019', 'case123_day20_slice_0020', 'case123_day20_slice_0020', 'case123_day20_slice_0020', 'case123_day20_slice_0021', 'case123_day20_slice_0021', 'case123_day20_slice_0021', 'case123_day20_slice_0022']\n"
     ]
    }
   ],
   "source": [
    "_,idsss = val_generator[1]\n",
    "print(idsss)"
   ]
  },
  {
   "cell_type": "markdown",
   "id": "1ac272c6",
   "metadata": {
    "papermill": {
     "duration": 0.009327,
     "end_time": "2022-07-03T12:31:51.842038",
     "exception": false,
     "start_time": "2022-07-03T12:31:51.832711",
     "status": "completed"
    },
    "tags": []
   },
   "source": [
    "## Test set predictions"
   ]
  },
  {
   "cell_type": "code",
   "execution_count": 19,
   "id": "eaec47af",
   "metadata": {
    "execution": {
     "iopub.execute_input": "2022-07-03T12:31:51.863342Z",
     "iopub.status.busy": "2022-07-03T12:31:51.862247Z",
     "iopub.status.idle": "2022-07-03T12:32:25.821302Z",
     "shell.execute_reply": "2022-07-03T12:32:25.819941Z"
    },
    "papermill": {
     "duration": 33.972735,
     "end_time": "2022-07-03T12:32:25.824285",
     "exception": false,
     "start_time": "2022-07-03T12:31:51.851550",
     "status": "completed"
    },
    "tags": []
   },
   "outputs": [
    {
     "name": "stderr",
     "output_type": "stream",
     "text": [
      "2022-07-03 12:31:52.100872: I tensorflow/compiler/mlir/mlir_graph_optimization_pass.cc:185] None of the MLIR Optimization Passes are enabled (registered 2)\n"
     ]
    }
   ],
   "source": [
    "ids=[]\n",
    "classs=[]\n",
    "predics=[]\n",
    "num_batches=len(val_generator)\n",
    "for i in range(num_batches):\n",
    "    # Predict\n",
    "    X, id = val_generator[i]\n",
    "    preds= model.predict(X,verbose=0)     # shape: (16,128,128,3)\n",
    "    \n",
    "    # Rle encode\n",
    "    for j in range(len(id)):\n",
    "\n",
    "            if not(len(ids) == len(classs) and len(classs)==len(predics)):\n",
    "              print('**********************************')\n",
    "            if not(id[j] in ids):\n",
    "                w = int(test_df['width'][test_df['id'] == id[j]].unique())\n",
    "                h = int(test_df['height'][test_df['id'] == id[j]].unique())\n",
    "                \n",
    "                #ids.append(id[j])\n",
    "                ids.extend((id[j],id[j],id[j]))\n",
    "                classs.extend(('large_bowel','small_bowel','stomach'))\n",
    "\n",
    "                for k in range(3):\n",
    "                    pred_img = cv2.resize(preds[j,:,:,k], (w, h), interpolation=cv2.INTER_NEAREST) # resize probabilities to original shape\n",
    "                    pred_img = (pred_img>0.5).astype(dtype='uint8')    # classify\n",
    "                    predics.append(rle_encode(pred_img))"
   ]
  },
  {
   "cell_type": "code",
   "execution_count": 20,
   "id": "d4419de3",
   "metadata": {
    "execution": {
     "iopub.execute_input": "2022-07-03T12:32:25.847995Z",
     "iopub.status.busy": "2022-07-03T12:32:25.847305Z",
     "iopub.status.idle": "2022-07-03T12:32:25.866663Z",
     "shell.execute_reply": "2022-07-03T12:32:25.865396Z"
    },
    "papermill": {
     "duration": 0.034213,
     "end_time": "2022-07-03T12:32:25.869259",
     "exception": false,
     "start_time": "2022-07-03T12:32:25.835046",
     "status": "completed"
    },
    "tags": []
   },
   "outputs": [
    {
     "name": "stdout",
     "output_type": "stream",
     "text": [
      "(300, 3)\n"
     ]
    }
   ],
   "source": [
    "dict = {'id': ids, 'class': classs, 'predicted': predics}\n",
    "submission_df = pd.DataFrame(dict)\n",
    "print(submission_df.shape)\n",
    "\n",
    "if submission1.shape[0] > 0:\n",
    "    del submission1['predicted']\n",
    "    submission_df = submission1.merge(submission_df, on=['id', 'class'])\n",
    "    \n",
    "submission_df.to_csv(\"submission.csv\", index=False)"
   ]
  },
  {
   "cell_type": "code",
   "execution_count": 21,
   "id": "f73311cf",
   "metadata": {
    "execution": {
     "iopub.execute_input": "2022-07-03T12:32:25.893185Z",
     "iopub.status.busy": "2022-07-03T12:32:25.892529Z",
     "iopub.status.idle": "2022-07-03T12:32:25.905999Z",
     "shell.execute_reply": "2022-07-03T12:32:25.904916Z"
    },
    "papermill": {
     "duration": 0.027594,
     "end_time": "2022-07-03T12:32:25.908453",
     "exception": false,
     "start_time": "2022-07-03T12:32:25.880859",
     "status": "completed"
    },
    "tags": []
   },
   "outputs": [
    {
     "data": {
      "text/html": [
       "<div>\n",
       "<style scoped>\n",
       "    .dataframe tbody tr th:only-of-type {\n",
       "        vertical-align: middle;\n",
       "    }\n",
       "\n",
       "    .dataframe tbody tr th {\n",
       "        vertical-align: top;\n",
       "    }\n",
       "\n",
       "    .dataframe thead th {\n",
       "        text-align: right;\n",
       "    }\n",
       "</style>\n",
       "<table border=\"1\" class=\"dataframe\">\n",
       "  <thead>\n",
       "    <tr style=\"text-align: right;\">\n",
       "      <th></th>\n",
       "      <th>id</th>\n",
       "      <th>class</th>\n",
       "      <th>predicted</th>\n",
       "    </tr>\n",
       "  </thead>\n",
       "  <tbody>\n",
       "    <tr>\n",
       "      <th>0</th>\n",
       "      <td>case123_day20_slice_0001</td>\n",
       "      <td>large_bowel</td>\n",
       "      <td></td>\n",
       "    </tr>\n",
       "    <tr>\n",
       "      <th>1</th>\n",
       "      <td>case123_day20_slice_0001</td>\n",
       "      <td>small_bowel</td>\n",
       "      <td></td>\n",
       "    </tr>\n",
       "    <tr>\n",
       "      <th>2</th>\n",
       "      <td>case123_day20_slice_0001</td>\n",
       "      <td>stomach</td>\n",
       "      <td></td>\n",
       "    </tr>\n",
       "    <tr>\n",
       "      <th>3</th>\n",
       "      <td>case123_day20_slice_0002</td>\n",
       "      <td>large_bowel</td>\n",
       "      <td></td>\n",
       "    </tr>\n",
       "    <tr>\n",
       "      <th>4</th>\n",
       "      <td>case123_day20_slice_0002</td>\n",
       "      <td>small_bowel</td>\n",
       "      <td></td>\n",
       "    </tr>\n",
       "    <tr>\n",
       "      <th>5</th>\n",
       "      <td>case123_day20_slice_0002</td>\n",
       "      <td>stomach</td>\n",
       "      <td></td>\n",
       "    </tr>\n",
       "    <tr>\n",
       "      <th>6</th>\n",
       "      <td>case123_day20_slice_0003</td>\n",
       "      <td>large_bowel</td>\n",
       "      <td></td>\n",
       "    </tr>\n",
       "    <tr>\n",
       "      <th>7</th>\n",
       "      <td>case123_day20_slice_0003</td>\n",
       "      <td>small_bowel</td>\n",
       "      <td></td>\n",
       "    </tr>\n",
       "    <tr>\n",
       "      <th>8</th>\n",
       "      <td>case123_day20_slice_0003</td>\n",
       "      <td>stomach</td>\n",
       "      <td></td>\n",
       "    </tr>\n",
       "    <tr>\n",
       "      <th>9</th>\n",
       "      <td>case123_day20_slice_0004</td>\n",
       "      <td>large_bowel</td>\n",
       "      <td></td>\n",
       "    </tr>\n",
       "  </tbody>\n",
       "</table>\n",
       "</div>"
      ],
      "text/plain": [
       "                         id        class predicted\n",
       "0  case123_day20_slice_0001  large_bowel          \n",
       "1  case123_day20_slice_0001  small_bowel          \n",
       "2  case123_day20_slice_0001      stomach          \n",
       "3  case123_day20_slice_0002  large_bowel          \n",
       "4  case123_day20_slice_0002  small_bowel          \n",
       "5  case123_day20_slice_0002      stomach          \n",
       "6  case123_day20_slice_0003  large_bowel          \n",
       "7  case123_day20_slice_0003  small_bowel          \n",
       "8  case123_day20_slice_0003      stomach          \n",
       "9  case123_day20_slice_0004  large_bowel          "
      ]
     },
     "execution_count": 21,
     "metadata": {},
     "output_type": "execute_result"
    }
   ],
   "source": [
    "submission_df.head(10)"
   ]
  },
  {
   "cell_type": "code",
   "execution_count": 22,
   "id": "aafb12bc",
   "metadata": {
    "execution": {
     "iopub.execute_input": "2022-07-03T12:32:25.931422Z",
     "iopub.status.busy": "2022-07-03T12:32:25.930958Z",
     "iopub.status.idle": "2022-07-03T12:32:25.943602Z",
     "shell.execute_reply": "2022-07-03T12:32:25.942495Z"
    },
    "papermill": {
     "duration": 0.026769,
     "end_time": "2022-07-03T12:32:25.945847",
     "exception": false,
     "start_time": "2022-07-03T12:32:25.919078",
     "status": "completed"
    },
    "tags": []
   },
   "outputs": [
    {
     "data": {
      "text/html": [
       "<div>\n",
       "<style scoped>\n",
       "    .dataframe tbody tr th:only-of-type {\n",
       "        vertical-align: middle;\n",
       "    }\n",
       "\n",
       "    .dataframe tbody tr th {\n",
       "        vertical-align: top;\n",
       "    }\n",
       "\n",
       "    .dataframe thead th {\n",
       "        text-align: right;\n",
       "    }\n",
       "</style>\n",
       "<table border=\"1\" class=\"dataframe\">\n",
       "  <thead>\n",
       "    <tr style=\"text-align: right;\">\n",
       "      <th></th>\n",
       "      <th>id</th>\n",
       "      <th>class</th>\n",
       "      <th>predicted</th>\n",
       "    </tr>\n",
       "  </thead>\n",
       "  <tbody>\n",
       "    <tr>\n",
       "      <th>106</th>\n",
       "      <td>case123_day20_slice_0036</td>\n",
       "      <td>small_bowel</td>\n",
       "      <td></td>\n",
       "    </tr>\n",
       "    <tr>\n",
       "      <th>28</th>\n",
       "      <td>case123_day20_slice_0010</td>\n",
       "      <td>small_bowel</td>\n",
       "      <td></td>\n",
       "    </tr>\n",
       "    <tr>\n",
       "      <th>241</th>\n",
       "      <td>case123_day20_slice_0081</td>\n",
       "      <td>small_bowel</td>\n",
       "      <td></td>\n",
       "    </tr>\n",
       "    <tr>\n",
       "      <th>158</th>\n",
       "      <td>case123_day20_slice_0053</td>\n",
       "      <td>stomach</td>\n",
       "      <td></td>\n",
       "    </tr>\n",
       "    <tr>\n",
       "      <th>52</th>\n",
       "      <td>case123_day20_slice_0018</td>\n",
       "      <td>small_bowel</td>\n",
       "      <td></td>\n",
       "    </tr>\n",
       "    <tr>\n",
       "      <th>6</th>\n",
       "      <td>case123_day20_slice_0003</td>\n",
       "      <td>large_bowel</td>\n",
       "      <td></td>\n",
       "    </tr>\n",
       "    <tr>\n",
       "      <th>164</th>\n",
       "      <td>case123_day20_slice_0055</td>\n",
       "      <td>stomach</td>\n",
       "      <td></td>\n",
       "    </tr>\n",
       "    <tr>\n",
       "      <th>65</th>\n",
       "      <td>case123_day20_slice_0022</td>\n",
       "      <td>stomach</td>\n",
       "      <td></td>\n",
       "    </tr>\n",
       "    <tr>\n",
       "      <th>291</th>\n",
       "      <td>case123_day20_slice_0098</td>\n",
       "      <td>large_bowel</td>\n",
       "      <td>14788 11 15054 11 15320 25 15586 25 15792 8 15...</td>\n",
       "    </tr>\n",
       "    <tr>\n",
       "      <th>135</th>\n",
       "      <td>case123_day20_slice_0046</td>\n",
       "      <td>large_bowel</td>\n",
       "      <td></td>\n",
       "    </tr>\n",
       "  </tbody>\n",
       "</table>\n",
       "</div>"
      ],
      "text/plain": [
       "                           id        class  \\\n",
       "106  case123_day20_slice_0036  small_bowel   \n",
       "28   case123_day20_slice_0010  small_bowel   \n",
       "241  case123_day20_slice_0081  small_bowel   \n",
       "158  case123_day20_slice_0053      stomach   \n",
       "52   case123_day20_slice_0018  small_bowel   \n",
       "6    case123_day20_slice_0003  large_bowel   \n",
       "164  case123_day20_slice_0055      stomach   \n",
       "65   case123_day20_slice_0022      stomach   \n",
       "291  case123_day20_slice_0098  large_bowel   \n",
       "135  case123_day20_slice_0046  large_bowel   \n",
       "\n",
       "                                             predicted  \n",
       "106                                                     \n",
       "28                                                      \n",
       "241                                                     \n",
       "158                                                     \n",
       "52                                                      \n",
       "6                                                       \n",
       "164                                                     \n",
       "65                                                      \n",
       "291  14788 11 15054 11 15320 25 15586 25 15792 8 15...  \n",
       "135                                                     "
      ]
     },
     "execution_count": 22,
     "metadata": {},
     "output_type": "execute_result"
    }
   ],
   "source": [
    "submission_df.sample(10)"
   ]
  }
 ],
 "metadata": {
  "kernelspec": {
   "display_name": "Python 3",
   "language": "python",
   "name": "python3"
  },
  "language_info": {
   "codemirror_mode": {
    "name": "ipython",
    "version": 3
   },
   "file_extension": ".py",
   "mimetype": "text/x-python",
   "name": "python",
   "nbconvert_exporter": "python",
   "pygments_lexer": "ipython3",
   "version": "3.7.12"
  },
  "papermill": {
   "default_parameters": {},
   "duration": 131.692664,
   "end_time": "2022-07-03T12:32:28.678689",
   "environment_variables": {},
   "exception": null,
   "input_path": "__notebook__.ipynb",
   "output_path": "__notebook__.ipynb",
   "parameters": {},
   "start_time": "2022-07-03T12:30:16.986025",
   "version": "2.3.4"
  }
 },
 "nbformat": 4,
 "nbformat_minor": 5
}
